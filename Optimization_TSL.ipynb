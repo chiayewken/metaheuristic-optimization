{
 "cells": [
  {
   "cell_type": "markdown",
   "metadata": {},
   "source": [
    "## Traveling Salesman Problem - Optimization"
   ]
  },
  {
   "cell_type": "markdown",
   "metadata": {},
   "source": [
    "### Import Packages"
   ]
  },
  {
   "cell_type": "code",
   "execution_count": 1,
   "metadata": {},
   "outputs": [],
   "source": [
    "from pyomo.environ import *\n",
    "import pyomo.environ as pyo\n",
    "import random\n",
    "import pandas as pd\n",
    "import matplotlib.pyplot as plt\n",
    "import math\n",
    "import numpy as np"
   ]
  },
  {
   "cell_type": "markdown",
   "metadata": {},
   "source": [
    "### Inputs"
   ]
  },
  {
   "cell_type": "code",
   "execution_count": 2,
   "metadata": {},
   "outputs": [],
   "source": [
    "#Generate Data Inputs\n",
    "\n",
    "# Select random seed\n",
    "random.seed(1)\n",
    "\n",
    "# Number of cities\n",
    "n=50\n",
    "\n",
    "#Coordinate Range\n",
    "rangelct=10000\n",
    "\n",
    "#Generate random locations\n",
    "coordlct_x = random.choices(range(0, rangelct), k=n)\n",
    "coordlct_y = random.choices(range(0, rangelct), k=n)\n",
    "\n",
    "#Compute distance between locations\n",
    "distancelct=np.empty([n, n])\n",
    "for i_index in range(n):\n",
    "    for j_index in range(n):\n",
    "        distancelct[i_index,j_index]=(math.sqrt(((coordlct_x[i_index]-coordlct_x[j_index])**2) +((coordlct_y[i_index]-coordlct_y[j_index])**2)))    \n",
    "\n",
    "distancelct[np.diag_indices_from(distancelct)] = 99999\n",
    "\n",
    "df = pd.DataFrame(distancelct)\n",
    "df.index += 1\n",
    "df.columns += 1\n",
    "cij_model=df.stack().to_dict()\n"
   ]
  },
  {
   "cell_type": "code",
   "execution_count": 3,
   "metadata": {},
   "outputs": [
    {
     "data": {
      "image/png": "[encoded data removed]",
      "text/plain": [
       "<Figure size 432x288 with 1 Axes>"
      ]
     },
     "metadata": {
      "needs_background": "light"
     },
     "output_type": "display_data"
    }
   ],
   "source": [
    "plt.plot(coordlct_x, coordlct_y, 'o', color='black');"
   ]
  },
  {
   "cell_type": "markdown",
   "metadata": {},
   "source": [
    "### Sets"
   ]
  },
  {
   "cell_type": "code",
   "execution_count": 4,
   "metadata": {},
   "outputs": [],
   "source": [
    "# Create Model\n",
    "model = AbstractModel()\n",
    "\n",
    "# Set of cities to visit\n",
    "model.N = RangeSet(n)\n",
    "model.U= RangeSet(2,n)"
   ]
  },
  {
   "cell_type": "markdown",
   "metadata": {},
   "source": [
    "### Parameters"
   ]
  },
  {
   "cell_type": "code",
   "execution_count": 5,
   "metadata": {},
   "outputs": [],
   "source": [
    "# c[i,j] - distance from i and j\n",
    "model.c = Param(model.N, model.N, initialize=cij_model)"
   ]
  },
  {
   "cell_type": "markdown",
   "metadata": {},
   "source": [
    "### Decision Variables"
   ]
  },
  {
   "cell_type": "code",
   "execution_count": 6,
   "metadata": {},
   "outputs": [],
   "source": [
    "# x[i,j] - 1 if city j is visited right after city i, 0 otherwise\n",
    "model.x = Var(model.N, model.N, within=Binary)\n",
    "\n",
    "# u[i] - auxiliary variable indicating tour ordering\n",
    "model.u = Var(model.N, within=Integers,bounds=(0,n))"
   ]
  },
  {
   "cell_type": "markdown",
   "metadata": {},
   "source": [
    "### Objective Function"
   ]
  },
  {
   "cell_type": "code",
   "execution_count": 7,
   "metadata": {},
   "outputs": [],
   "source": [
    "# Minimize total distance\n",
    "def cost_(model):\n",
    "    return sum(model.c[i,j]*model.x[i,j] for i in model.N for j in model.N)\n",
    "model.cost = Objective(rule=cost_)"
   ]
  },
  {
   "cell_type": "markdown",
   "metadata": {},
   "source": [
    "### Constraints"
   ]
  },
  {
   "cell_type": "code",
   "execution_count": 8,
   "metadata": {},
   "outputs": [],
   "source": [
    "#  There is only one departure from each city\n",
    "def arrive_(model, j):\n",
    "    return sum(model.x[i,j] for i in model.N if i!=j ) == 1\n",
    "model.arrive = Constraint(model.N, rule=arrive_)"
   ]
  },
  {
   "cell_type": "code",
   "execution_count": 9,
   "metadata": {},
   "outputs": [],
   "source": [
    "# There is only one arrival to each city\n",
    "def depart_(model, i):\n",
    "    return sum(model.x[i,j] for j in model.N if j!=i ) == 1\n",
    "model.depart = Constraint(model.N, rule=depart_)"
   ]
  },
  {
   "cell_type": "code",
   "execution_count": 10,
   "metadata": {},
   "outputs": [],
   "source": [
    "#  There is only a single tour covering all cities, and not two or more disjointed tours\n",
    "def singletour_(model,i,j):\n",
    "    if i!=j: \n",
    "        return model.u[i] - model.u[j] + model.x[i,j] * n <= n-1\n",
    "    else:\n",
    "        return model.u[i] - model.u[j] == 0 \n",
    "    \n",
    "model.singletour = Constraint(model.U,model.N,rule=singletour_)"
   ]
  },
  {
   "cell_type": "markdown",
   "metadata": {},
   "source": [
    "### Solve Model"
   ]
  },
  {
   "cell_type": "code",
   "execution_count": 11,
   "metadata": {
    "scrolled": true
   },
   "outputs": [
    {
     "name": "stdout",
     "output_type": "stream",
     "text": [
      "Set parameter Username\n",
      "Academic license - for non-commercial use only - expires 2022-11-27\n",
      "Read LP format model from file C:\\Users\\NUNORI~1\\AppData\\Local\\Temp\\tmpchbnotjx.pyomo.lp\n",
      "Reading time = 0.04 seconds\n",
      "x2551: 2551 rows, 2551 columns, 12104 nonzeros\n",
      "Set parameter TimeLimit to value 1800000\n",
      "Gurobi Optimizer version 9.5.0 build v9.5.0rc5 (win64)\n",
      "Thread count: 4 physical cores, 8 logical processors, using up to 8 threads\n",
      "Optimize a model with 2551 rows, 2551 columns and 12104 nonzeros\n",
      "Model fingerprint: 0x3cfa814e\n",
      "Variable types: 1 continuous, 2550 integer (2500 binary)\n",
      "Coefficient statistics:\n",
      "  Matrix range     [1e+00, 5e+01]\n",
      "  Objective range  [2e+01, 1e+05]\n",
      "  Bounds range     [1e+00, 5e+01]\n",
      "  RHS range        [1e+00, 5e+01]\n",
      "Presolve removed 50 rows and 52 columns\n",
      "Presolve time: 0.01s\n",
      "Presolved: 2501 rows, 2499 columns, 12054 nonzeros\n",
      "Variable types: 0 continuous, 2499 integer (2450 binary)\n",
      "Found heuristic solution: objective 257923.09423\n",
      "\n",
      "Root relaxation: objective 4.599982e+04, 162 iterations, 0.00 seconds (0.00 work units)\n",
      "\n",
      "    Nodes    |    Current Node    |     Objective Bounds      |     Work\n",
      " Expl Unexpl |  Obj  Depth IntInf | Incumbent    BestBd   Gap | It/Node Time\n",
      "\n",
      "     0     0 45999.8210    0   86 257923.094 45999.8210  82.2%     -    0s\n",
      "     0     0 52698.2784    0   97 257923.094 52698.2784  79.6%     -    0s\n",
      "H    0     0                    238038.41390 52698.2784  77.9%     -    0s\n",
      "H    0     0                    64210.479007 52698.2784  17.9%     -    0s\n",
      "     0     0 52698.2784    0  106 64210.4790 52698.2784  17.9%     -    0s\n",
      "     0     0 53009.1386    0  122 64210.4790 53009.1386  17.4%     -    0s\n",
      "     0     0 53009.3593    0  128 64210.4790 53009.3593  17.4%     -    0s\n",
      "     0     0 53356.6955    0  137 64210.4790 53356.6955  16.9%     -    0s\n",
      "     0     0 53356.6955    0  106 64210.4790 53356.6955  16.9%     -    0s\n",
      "     0     0 53376.3721    0   83 64210.4790 53376.3721  16.9%     -    0s\n",
      "     0     0 53376.3721    0  103 64210.4790 53376.3721  16.9%     -    0s\n",
      "     0     0 53483.6284    0   83 64210.4790 53483.6284  16.7%     -    0s\n",
      "     0     0 53534.9810    0   93 64210.4790 53534.9810  16.6%     -    0s\n",
      "     0     0 53534.9810    0   98 64210.4790 53534.9810  16.6%     -    0s\n",
      "     0     0 53534.9810    0  105 64210.4790 53534.9810  16.6%     -    0s\n",
      "     0     0 53534.9810    0   96 64210.4790 53534.9810  16.6%     -    0s\n",
      "     0     0 53534.9810    0  105 64210.4790 53534.9810  16.6%     -    0s\n",
      "     0     0 53534.9810    0   92 64210.4790 53534.9810  16.6%     -    0s\n",
      "     0     0 53534.9810    0   93 64210.4790 53534.9810  16.6%     -    0s\n",
      "     0     0 53534.9810    0   94 64210.4790 53534.9810  16.6%     -    0s\n",
      "     0     0 53534.9810    0   92 64210.4790 53534.9810  16.6%     -    0s\n",
      "     0     2 53990.6646    0   92 64210.4790 53990.6646  15.9%     -    0s\n",
      "H  219   216                    59524.085669 54121.9039  9.08%   8.1    1s\n",
      "H  313   259                    59367.144462 54121.9039  8.84%   8.0    1s\n",
      "H 1046   781                    58993.713480 54260.4218  8.02%   7.1    2s\n",
      "H 1060   751                    58744.289294 54633.2718  7.00%   7.0    4s\n",
      "  1067   755 57854.1471   71   93 58744.2893 54709.2641  6.87%   7.0    5s\n",
      "H 1126   758                    58498.580124 55059.5828  5.88%  11.3    7s\n",
      "H 1215   782                    58276.234861 55059.5828  5.52%  12.7    7s\n",
      "  1973   982 56839.9487   34   70 58276.2349 55347.0903  5.03%  16.3   10s\n",
      "H 1975   840                    57546.077259 55347.0903  3.82%  16.3   10s\n",
      "  9810  2171     cutoff   48      57546.0773 56549.2112  1.73%  23.7   15s\n",
      " 15513  2260 57030.2246   62  161 57546.0773 56911.9721  1.10%  23.3   20s\n",
      " 18503  2565 57021.2348   75   33 57546.0773 56911.9721  1.10%  22.6   25s\n",
      " 30542  2963 57538.6829   88  177 57546.0773 57214.3162  0.58%  19.0   30s\n",
      " 33009  3339     cutoff  104      57546.0773 57214.3162  0.58%  18.7   35s\n",
      " 49465  3282 57390.8896  106   92 57546.0773 57281.8644  0.46%  16.5   40s\n",
      "\n",
      "Cutting planes:\n",
      "  Learned: 23\n",
      "  Gomory: 11\n",
      "  Cover: 13\n",
      "  Implied bound: 4\n",
      "  Projected implied bound: 22\n",
      "  MIR: 32\n",
      "  StrongCG: 2\n",
      "  Flow cover: 180\n",
      "  GUB cover: 1\n",
      "  Inf proof: 35\n",
      "  Zero half: 26\n",
      "  RLT: 17\n",
      "  Relax-and-lift: 20\n",
      "\n",
      "Explored 58000 nodes (919673 simplex iterations) in 42.16 seconds (41.32 work units)\n",
      "Thread count was 8 (of 8 available processors)\n",
      "\n",
      "Solution count 10: 57546.1 58276.2 58498.6 ... 257923\n",
      "\n",
      "Optimal solution found (tolerance 1.00e-04)\n",
      "Best objective 5.754607725866e+04, best bound 5.754607725866e+04, gap 0.0000%\n"
     ]
    },
    {
     "data": {
      "text/plain": [
       "{'Problem': [{'Name': 'x2551', 'Lower bound': 57546.07725865518, 'Upper bound': 57546.07725865518, 'Number of objectives': 1, 'Number of constraints': 2551, 'Number of variables': 2551, 'Number of binary variables': 2500, 'Number of integer variables': 2550, 'Number of continuous variables': 1, 'Number of nonzeros': 12104, 'Sense': 'minimize'}], 'Solver': [{'Status': 'ok', 'Return code': '0', 'Message': 'Model was solved to optimality (subject to tolerances), and an optimal solution is available.', 'Termination condition': 'optimal', 'Termination message': 'Model was solved to optimality (subject to tolerances), and an optimal solution is available.', 'Wall time': '42.155805587768555', 'Error rc': 0, 'Time': 42.48156547546387}], 'Solution': [OrderedDict([('number of solutions', 0), ('number of solutions displayed', 0)])]}"
      ]
     },
     "execution_count": 11,
     "metadata": {},
     "output_type": "execute_result"
    }
   ],
   "source": [
    "instance = model.create_instance()\n",
    "opt = pyo.SolverFactory('gurobi')\n",
    "opt.solve(instance, options={'TimeLimit': 3600*500},tee=True)"
   ]
  },
  {
   "cell_type": "markdown",
   "metadata": {},
   "source": [
    "### Read output variables"
   ]
  },
  {
   "cell_type": "code",
   "execution_count": 17,
   "metadata": {},
   "outputs": [],
   "source": [
    "xij_dic = {i:int(np.round(pyo.value(j))) for (i,j) in instance.x.items()}\n",
    "xij = pd.DataFrame(xij_dic.values(), index = xij_dic.keys()).unstack()\n",
    "linkindex = np.where(xij == 1)"
   ]
  },
  {
   "cell_type": "code",
   "execution_count": 18,
   "metadata": {},
   "outputs": [],
   "source": [
    "ui_dic = {i:int(np.round(pyo.value(j))) for (i,j) in instance.u.items()}\n",
    "ui = pd.DataFrame(ui_dic.values(), index = ui_dic.keys()).unstack()\n",
    "sequence = np.where(ui == 1)\n",
    "uidf=pd.DataFrame(ui)\n",
    "uidf=uidf.sort_values(by=[0])\n",
    "\n",
    "pd.set_option('display.max_rows', uidf.shape[0]+1)\n"
   ]
  },
  {
   "cell_type": "markdown",
   "metadata": {},
   "source": [
    "### Plot results"
   ]
  },
  {
   "cell_type": "code",
   "execution_count": 19,
   "metadata": {},
   "outputs": [
    {
     "data": {
      "text/plain": [
       "50"
      ]
     },
     "execution_count": 19,
     "metadata": {},
     "output_type": "execute_result"
    },
    {
     "data": {
      "image/png": "[encoded data removed]",
      "text/plain": [
       "<Figure size 432x288 with 1 Axes>"
      ]
     },
     "metadata": {
      "needs_background": "light"
     },
     "output_type": "display_data"
    }
   ],
   "source": [
    "def connectpoints(x,y,p1,p2):\n",
    "    x1, x2 = x[p1], x[p2]\n",
    "    y1, y2 = y[p1], y[p2]\n",
    "    plt.plot([x1,x2],[y1,y2],'k-')\n",
    "\n",
    "for i_index in range(len(linkindex[0])): \n",
    "    connectpoints(coordlct_x,coordlct_y,linkindex[0][i_index],linkindex[1][i_index])\n",
    "    \n",
    "plt.plot(coordlct_x, coordlct_y, 'o', color='black');\n",
    "len(linkindex[0])"
   ]
  },
  {
   "cell_type": "code",
   "execution_count": null,
   "metadata": {},
   "outputs": [],
   "source": []
  }
 ],
 "metadata": {
  "kernelspec": {
   "display_name": "Python 3",
   "language": "python",
   "name": "python3"
  },
  "language_info": {
   "codemirror_mode": {
    "name": "ipython",
    "version": 3
   },
   "file_extension": ".py",
   "mimetype": "text/x-python",
   "name": "python",
   "nbconvert_exporter": "python",
   "pygments_lexer": "ipython3",
   "version": "3.8.5"
  }
 },
 "nbformat": 4,
 "nbformat_minor": 2
}
