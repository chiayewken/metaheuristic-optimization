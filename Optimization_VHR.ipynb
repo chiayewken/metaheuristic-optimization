{
 "cells": [
  {
   "cell_type": "markdown",
   "metadata": {},
   "source": [
    "## Vehicle Routing Problem"
   ]
  },
  {
   "cell_type": "markdown",
   "metadata": {},
   "source": [
    "### Import Packages"
   ]
  },
  {
   "cell_type": "code",
   "execution_count": 1,
   "metadata": {},
   "outputs": [],
   "source": [
    "from pyomo.environ import *\n",
    "import pyomo.environ as pyo\n",
    "import random\n",
    "import pandas as pd\n",
    "import matplotlib.pyplot as plt\n",
    "import math\n",
    "import numpy as np\n",
    "\n",
    "random.seed(2)\n"
   ]
  },
  {
   "cell_type": "markdown",
   "metadata": {},
   "source": [
    "### Inputs"
   ]
  },
  {
   "cell_type": "code",
   "execution_count": 2,
   "metadata": {},
   "outputs": [],
   "source": [
    "#Generate Data Inputs\n",
    "\n",
    "# Number of cities\n",
    "n=20\n",
    "\n",
    "# Number of Vehicles\n",
    "nvhc=3\n",
    "\n",
    "# Vehicle capacity\n",
    "cvhc=230\n",
    "\n",
    "#Coordinate Range\n",
    "rangelct=10000\n",
    "\n",
    "coordlct_x = random.sample(range(0, rangelct), n)\n",
    "\n",
    "coordlct_y = random.sample(range(0, rangelct), n)\n",
    "\n",
    "distancelct=np.empty([n, n])\n",
    "for i_index in range(n):\n",
    "    for j_index in range(n):\n",
    "        distancelct[i_index,j_index]=(math.sqrt(((coordlct_x[i_index]-coordlct_x[j_index])**2) +((coordlct_y[i_index]-coordlct_y[j_index])**2)))    \n",
    "\n",
    "distancelct[np.diag_indices_from(distancelct)] = 99999\n",
    "\n",
    "distancelctdf = pd.DataFrame(distancelct)\n",
    "distancelctdf.index += 1\n",
    "distancelctdf.columns += 1\n",
    "cij_model=distancelctdf.stack().to_dict()\n",
    "\n",
    "cij_model\n",
    "\n",
    "#Generate Demand\n",
    "demandlct = random.sample(range(1, 50), n)\n",
    "demanddf = pd.DataFrame(demandlct)\n",
    "demanddf.index += 1\n",
    "dj_model=demanddf.to_dict()\n",
    "dj_model=dj_model[0]"
   ]
  },
  {
   "cell_type": "code",
   "execution_count": 3,
   "metadata": {},
   "outputs": [
    {
     "data": {
      "image/png": "[encoded data removed]",
      "text/plain": [
       "<Figure size 432x288 with 1 Axes>"
      ]
     },
     "metadata": {
      "needs_background": "light"
     },
     "output_type": "display_data"
    }
   ],
   "source": [
    "plt.plot(coordlct_x, coordlct_y, 'o', color='black');"
   ]
  },
  {
   "cell_type": "markdown",
   "metadata": {},
   "source": [
    "### Sets"
   ]
  },
  {
   "cell_type": "code",
   "execution_count": 4,
   "metadata": {},
   "outputs": [],
   "source": [
    "model = AbstractModel()\n",
    "\n",
    "# Set of candidate cities\n",
    "model.N = RangeSet(n)\n",
    "model.M = RangeSet(n-1)"
   ]
  },
  {
   "cell_type": "markdown",
   "metadata": {},
   "source": [
    "### Parameters"
   ]
  },
  {
   "cell_type": "code",
   "execution_count": 5,
   "metadata": {},
   "outputs": [],
   "source": [
    "# c[i,j] - distance from i and j\n",
    "model.c = Param(model.N, model.N, initialize=cij_model)\n",
    "\n",
    "# d[j] - demand of customer j\n",
    "model.d = Param(model.N, initialize=dj_model)"
   ]
  },
  {
   "cell_type": "markdown",
   "metadata": {},
   "source": [
    "### Decision Variables"
   ]
  },
  {
   "cell_type": "code",
   "execution_count": 6,
   "metadata": {},
   "outputs": [],
   "source": [
    "# x[i,j] - 1 if city j is visited right after city i, 0 otherwise\n",
    "model.x = Var(model.N, model.N, within=Binary)\n",
    "\n",
    "# u[i] - auxiliary variable indicating tour ordering\n",
    "model.u = Var(model.N, within=NonNegativeReals)"
   ]
  },
  {
   "cell_type": "markdown",
   "metadata": {},
   "source": [
    "### Objective Function"
   ]
  },
  {
   "cell_type": "code",
   "execution_count": 7,
   "metadata": {},
   "outputs": [],
   "source": [
    "# Minimize the demand-weighted total cost\n",
    "def cost_(model):\n",
    "    return sum(model.c[i,j]*model.x[i,j] for i in model.N for j in model.N)\n",
    "model.cost = Objective(rule=cost_)"
   ]
  },
  {
   "cell_type": "markdown",
   "metadata": {},
   "source": [
    "### Constraints"
   ]
  },
  {
   "cell_type": "code",
   "execution_count": 8,
   "metadata": {},
   "outputs": [],
   "source": [
    "#  Only 1 departs from each city\n",
    "def departs_(model, j):\n",
    "    return sum(model.x[i,j] for i in model.N if i!=j ) == 1\n",
    "model.departs = Constraint(model.M, rule=departs_)"
   ]
  },
  {
   "cell_type": "code",
   "execution_count": 9,
   "metadata": {},
   "outputs": [],
   "source": [
    "#  Only 1 arrives from each city\n",
    "def arrives_(model, i):\n",
    "    return sum(model.x[i,j] for j in model.N if j!=i ) == 1\n",
    "model.arrives = Constraint(model.M, rule=arrives_)"
   ]
  },
  {
   "cell_type": "code",
   "execution_count": 10,
   "metadata": {},
   "outputs": [],
   "source": [
    "#  Only nvhc vehicles arrive to the depot  (city with index n)\n",
    "def arrivesdepot_(model):\n",
    "    return sum(model.x[i,n] for i in model.N) == nvhc\n",
    "model.departsdepot = Constraint(rule=arrivesdepot_)"
   ]
  },
  {
   "cell_type": "code",
   "execution_count": 11,
   "metadata": {},
   "outputs": [],
   "source": [
    "#  Only nvhc vehicles depart to the depot (city with index n)\n",
    "def departdepot_(model):\n",
    "    return sum(model.x[n,j] for j in model.N) == nvhc\n",
    "model.arrivesdepot = Constraint(rule=departdepot_)"
   ]
  },
  {
   "cell_type": "code",
   "execution_count": 12,
   "metadata": {},
   "outputs": [],
   "source": [
    "def singletour_(model,i,j):\n",
    "    if i!=j: \n",
    "        return model.u[i] - model.u[j] +cvhc*model.x[i,j] <= cvhc-model.d[i]\n",
    "    else:\n",
    "        return model.u[n]== 0\n",
    "    \n",
    "model.singletour = Constraint(model.M,model.M,rule=singletour_)"
   ]
  },
  {
   "cell_type": "markdown",
   "metadata": {},
   "source": [
    "### Solve Model"
   ]
  },
  {
   "cell_type": "code",
   "execution_count": 13,
   "metadata": {},
   "outputs": [
    {
     "name": "stdout",
     "output_type": "stream",
     "text": [
      "Set parameter Username\n",
      "Academic license - for non-commercial use only - expires 2022-11-27\n",
      "Read LP format model from file C:\\Users\\NUNORI~1\\AppData\\Local\\Temp\\tmpmwk_vhab.pyomo.lp\n",
      "Reading time = 0.01 seconds\n",
      "x421: 402 rows, 421 columns, 1808 nonzeros\n",
      "Set parameter TimeLimit to value 10000\n",
      "Gurobi Optimizer version 9.5.0 build v9.5.0rc5 (win64)\n",
      "Thread count: 4 physical cores, 8 logical processors, using up to 8 threads\n",
      "Optimize a model with 402 rows, 421 columns and 1808 nonzeros\n",
      "Model fingerprint: 0x63c1cddf\n",
      "Variable types: 21 continuous, 400 integer (400 binary)\n",
      "Coefficient statistics:\n",
      "  Matrix range     [1e+00, 2e+02]\n",
      "  Objective range  [2e+02, 1e+05]\n",
      "  Bounds range     [1e+00, 1e+00]\n",
      "  RHS range        [1e+00, 2e+02]\n",
      "Presolve removed 20 rows and 21 columns\n",
      "Presolve time: 0.00s\n",
      "Presolved: 382 rows, 400 columns, 1788 nonzeros\n",
      "Variable types: 19 continuous, 381 integer (381 binary)\n",
      "\n",
      "Root relaxation: objective 4.291338e+04, 73 iterations, 0.00 seconds (0.00 work units)\n",
      "\n",
      "    Nodes    |    Current Node    |     Objective Bounds      |     Work\n",
      " Expl Unexpl |  Obj  Depth IntInf | Incumbent    BestBd   Gap | It/Node Time\n",
      "\n",
      "     0     0 42913.3797    0   26          - 42913.3797      -     -    0s\n",
      "H    0     0                    131943.52819 42913.3797  67.5%     -    0s\n",
      "H    0     0                    119448.45664 46679.4958  60.9%     -    0s\n",
      "H    0     0                    118281.71531 46679.4958  60.5%     -    0s\n",
      "     0     0 48402.6504    0   38 118281.715 48402.6504  59.1%     -    0s\n",
      "H    0     0                    111331.75872 48402.6504  56.5%     -    0s\n",
      "     0     0 49193.5964    0   36 111331.759 49193.5964  55.8%     -    0s\n",
      "     0     0 49193.5964    0   22 111331.759 49193.5964  55.8%     -    0s\n",
      "     0     0 49193.9361    0   24 111331.759 49193.9361  55.8%     -    0s\n",
      "     0     0 49193.9361    0   24 111331.759 49193.9361  55.8%     -    0s\n",
      "     0     0 49193.9361    0   24 111331.759 49193.9361  55.8%     -    0s\n",
      "H    0     0                    104700.06532 49193.9361  53.0%     -    0s\n",
      "     0     0 49193.9361    0   24 104700.065 49193.9361  53.0%     -    0s\n",
      "     0     0 49193.9361    0   24 104700.065 49193.9361  53.0%     -    0s\n",
      "     0     0 49193.9361    0   24 104700.065 49193.9361  53.0%     -    0s\n",
      "H    0     0                    97703.121088 49193.9361  49.6%     -    0s\n",
      "     0     2 49193.9361    0   24 97703.1211 49193.9361  49.6%     -    0s\n",
      "H  303   321                    95204.443592 49237.9489  48.3%   7.1    0s\n",
      "*  470   448              88    86812.062800 50141.4096  42.2%   6.9    0s\n",
      "*  552   509             103    70140.901792 50141.4096  28.5%   6.8    0s\n",
      "*  553   508             102    69740.087660 50141.4096  28.1%   6.8    0s\n",
      "*  668   599              26    69212.427773 50141.4096  27.6%   6.8    0s\n",
      "*  669   598              25    69116.904613 50141.4096  27.5%   6.8    0s\n",
      "* 1074   986              59    67414.727025 50191.6253  25.5%   6.7    0s\n",
      "H 1203   935                    66420.860648 50191.6253  24.4%   6.9    0s\n",
      "H 1204   888                    66080.908843 50191.6253  24.0%   6.9    0s\n",
      "H 1211   849                    65650.085565 50191.6253  23.5%   6.8    0s\n",
      "H 1225   814                    64491.438889 50191.6253  22.2%   6.7    0s\n",
      "H 1232   778                    62518.805945 50191.6253  19.7%   6.7    0s\n",
      "H 1242   748                    62460.657607 50191.6253  19.6%   7.3    0s\n",
      "H 1275   734                    62252.568648 50299.7904  19.2%   7.7    1s\n",
      "H 5008  2632                    61454.836708 51395.1043  16.4%   9.0    1s\n",
      "H 5021  2610                    61321.996490 51395.1043  16.2%   9.0    1s\n",
      "*18327 10467              60    61128.379354 52408.3859  14.3%   8.8    3s\n",
      "*25084 14336              55    60961.486790 52692.7151  13.6%   9.0    4s\n",
      "*25085 13824              54    60402.857520 52692.7151  12.8%   9.0    4s\n",
      " 30096 16164 54997.2883   48   24 60402.8575 52833.8325  12.5%   9.0    6s\n",
      "H30109 15364                    60291.271546 52833.8325  12.4%   9.0    6s\n",
      "H30117 14600                    60103.348879 52833.8325  12.1%   9.0    6s\n",
      "H30125 13874                    60086.579153 52833.8325  12.1%   9.0    7s\n",
      "H34063 14819                    59638.302691 52833.8325  11.4%   9.1    8s\n",
      " 42267 18175 59421.5226   67   14 59638.3027 52833.8325  11.4%   9.3   10s\n",
      " 75185 30627 53861.9574   46   31 59638.3027 52908.1659  11.3%   9.0   15s\n",
      "H110004 48413                    58996.252452 53357.1738  9.56%   9.1   19s\n",
      " 110437 48781     cutoff   47      58996.2525 53357.6179  9.56%   9.1   20s\n",
      " 140689 62626 54819.7209   42   31 58996.2525 53649.0365  9.06%   9.2   25s\n",
      " 170669 75303 56395.3730   71   24 58996.2525 53891.7756  8.65%   9.3   30s\n",
      " 194501 84345 57062.9724   73   13 58996.2525 54050.9056  8.38%   9.4   35s\n",
      " 226874 95871 56809.8070   59   21 58996.2525 54239.6519  8.06%   9.5   40s\n",
      " 256183 105661 58165.6468   52   15 58996.2525 54392.5642  7.80%   9.5   45s\n",
      " 288315 116192 57612.1406   52   19 58996.2525 54539.4771  7.55%   9.6   50s\n",
      " 315317 124996 58793.9387   57   15 58996.2525 54650.2421  7.37%   9.6   55s\n",
      " 335297 131001 55570.3713   47   24 58996.2525 54728.8071  7.23%   9.7   60s\n",
      " 350322 135468 58426.8397   60   13 58996.2525 54785.8272  7.14%   9.7   65s\n",
      " 366871 139887 57178.1874   46   17 58996.2525 54844.8217  7.04%   9.7   70s\n",
      " 383127 144453 55829.4270   47   29 58996.2525 54902.3872  6.94%   9.7   75s\n",
      " 400114 148942 58679.9758   51   22 58996.2525 54954.1478  6.85%   9.7   80s\n",
      " 419008 153944 58400.9139   61   13 58996.2525 55017.4252  6.74%   9.7   85s\n",
      " 437531 158479 56563.4412   54   22 58996.2525 55076.9476  6.64%   9.7   90s\n",
      " 456189 163300 56940.5701   57   22 58996.2525 55132.1005  6.55%   9.7   95s\n",
      " 481845 169130 56206.0757   61   26 58996.2525 55202.5646  6.43%   9.8  100s\n",
      " 508085 175255 58929.8343   57   21 58996.2525 55274.8523  6.31%   9.8  105s\n",
      " 528821 179365 58149.2855   68    8 58996.2525 55331.0327  6.21%   9.8  110s\n",
      " 552792 184312 57882.5782   56   24 58996.2525 55391.6189  6.11%   9.8  115s\n",
      " 577229 189083     cutoff   76      58996.2525 55455.0000  6.00%   9.8  120s\n",
      " 602310 193699 58458.7498   58   26 58996.2525 55515.0188  5.90%   9.8  125s\n",
      " 621629 196743 56211.9559   45   29 58996.2525 55560.3457  5.82%   9.9  130s\n",
      " 636214 198909 58385.2671   56   21 58996.2525 55596.4261  5.76%   9.9  135s\n",
      " 651089 200960 56915.8781   46   18 58996.2525 55630.6361  5.70%   9.9  140s\n",
      " 665699 202713     cutoff   45      58996.2525 55662.2000  5.65%   9.9  145s\n",
      " 678495 204196     cutoff   57      58996.2525 55690.7601  5.60%   9.9  150s\n",
      " 695305 205947 58366.4144   46   12 58996.2525 55728.3466  5.54%   9.9  155s\n",
      " 710937 207572 56569.0080   57   16 58996.2525 55761.6124  5.48%   9.9  160s\n",
      " 728117 209143     cutoff   64      58996.2525 55798.3928  5.42%   9.9  165s\n",
      " 746181 210590 57100.0060   48   18 58996.2525 55834.7507  5.36%  10.0  170s\n",
      " 761654 211723 56771.5934   58   22 58996.2525 55867.9414  5.30%  10.0  175s\n",
      " 781400 213163 infeasible   47      58996.2525 55908.5254  5.23%  10.0  180s\n",
      " 803103 214576 57418.9345   50   26 58996.2525 55953.5765  5.16%  10.0  185s\n",
      " 822012 215647 58467.5377   50   24 58996.2525 55988.3474  5.10%  10.0  190s\n",
      " 839909 216469     cutoff   56      58996.2525 56022.7691  5.04%  10.0  195s\n",
      " 850208 216985 57208.6825   53   17 58996.2525 56042.6711  5.01%  10.0  200s\n",
      " 862993 217540 infeasible   51      58996.2525 56067.3073  4.96%  10.0  205s\n",
      " 875386 218046     cutoff   47      58996.2525 56090.9212  4.92%  10.0  210s\n",
      " 886872 218390 58767.2833   70    9 58996.2525 56111.3244  4.89%  10.1  215s\n",
      " 900184 218649 57477.1826   52   18 58996.2525 56136.3565  4.85%  10.1  220s\n",
      " 915247 219044     cutoff   61      58996.2525 56165.2642  4.80%  10.1  225s\n",
      " 931166 219402 58294.4208   66   14 58996.2525 56193.9787  4.75%  10.1  230s\n",
      " 952403 219843 57757.6385   54   15 58996.2525 56233.0817  4.68%  10.1  235s\n",
      " 974425 220062 infeasible   51      58996.2525 56272.1205  4.62%  10.1  240s\n",
      " 994033 220111 57987.6031   47   23 58996.2525 56306.6048  4.56%  10.1  245s\n",
      " 1011970 219978 56929.9154   55   15 58996.2525 56338.6297  4.50%  10.1  250s\n",
      " 1031989 219990 58897.8457   53   13 58996.2525 56371.8057  4.45%  10.1  255s\n",
      " 1049494 219772 58101.5713   54   13 58996.2525 56401.3921  4.40%  10.1  260s\n"
     ]
    },
    {
     "name": "stdout",
     "output_type": "stream",
     "text": [
      " 1063539 219521     cutoff   57      58996.2525 56424.8879  4.36%  10.1  265s\n",
      " 1076791 219145 58814.1647   48   26 58996.2525 56446.6531  4.32%  10.2  270s\n",
      " 1088651 219041 57507.8676   50   17 58996.2525 56465.0735  4.29%  10.2  275s\n",
      " 1101742 218780 58981.7206   57   22 58996.2525 56486.2772  4.25%  10.2  280s\n",
      " 1113584 218510 58701.3361   54   24 58996.2525 56504.7624  4.22%  10.2  285s\n",
      " 1126986 217992 58140.3975   51   24 58996.2525 56526.7333  4.19%  10.2  290s\n",
      "H1127321 217992                    58996.250198 56526.9168  4.19%  10.2  290s\n",
      " 1138888 217643 57234.9679   54   18 58996.2502 56546.1579  4.15%  10.2  295s\n",
      "H1151499 217270                    58996.250190 56566.3457  4.12%  10.2  299s\n",
      " 1152658 217194 57616.2698   48   18 58996.2502 56568.2782  4.12%  10.2  300s\n",
      " 1166431 216763 57317.9503   61   20 58996.2502 56589.1104  4.08%  10.2  305s\n",
      " 1182329 216137     cutoff   48      58996.2502 56613.1453  4.04%  10.3  310s\n",
      " 1199514 215670 57681.2575   52   23 58996.2502 56639.5651  3.99%  10.3  315s\n",
      " 1216192 215029     cutoff   68      58996.2502 56664.4514  3.95%  10.3  320s\n",
      " 1234570 214113     cutoff   61      58996.2502 56693.4802  3.90%  10.3  325s\n",
      " 1249265 213444 58073.5679   49   22 58996.2502 56715.6208  3.87%  10.3  330s\n",
      " 1260592 212868 58454.7601   55   19 58996.2502 56732.1236  3.84%  10.3  335s\n",
      " 1271012 212268 57455.7987   55   24 58996.2502 56747.7341  3.81%  10.3  340s\n",
      " 1282193 211658 58174.4486   56   13 58996.2502 56765.2377  3.78%  10.3  345s\n",
      " 1294404 210901 infeasible   46      58996.2502 56783.9624  3.75%  10.3  350s\n",
      " 1307365 210146     cutoff   62      58996.2502 56803.2339  3.72%  10.3  355s\n",
      " 1321511 209163     cutoff   55      58996.2502 56824.9061  3.68%  10.3  360s\n",
      " 1336779 208073 57848.0093   52   23 58996.2502 56847.8830  3.64%  10.3  365s\n",
      " 1352451 206929 58158.9493   54   19 58996.2502 56871.8939  3.60%  10.3  370s\n",
      " 1368627 205583 58542.6165   60   26 58996.2502 56895.6687  3.56%  10.3  375s\n",
      " 1385609 204129 57596.9218   59   16 58996.2502 56920.6968  3.52%  10.3  380s\n",
      " 1403528 202430 57966.1900   55   23 58996.2502 56948.0629  3.47%  10.3  385s\n",
      " 1418019 201097 58316.9390   61   20 58996.2502 56970.7919  3.43%  10.3  390s\n",
      " 1431377 199750 infeasible   54      58996.2502 56990.3739  3.40%  10.3  395s\n",
      " 1441972 198656 58511.2122   46   18 58996.2502 57006.9854  3.37%  10.3  400s\n",
      " 1452785 197565 58750.2184   63   13 58996.2502 57022.6721  3.35%  10.3  405s\n",
      " 1462470 196537 58973.0928   64   13 58996.2502 57037.5665  3.32%  10.3  410s\n",
      " 1474924 195115 58515.0333   49   15 58996.2502 57056.9050  3.29%  10.3  415s\n",
      " 1491911 193260 58772.3467   47   22 58996.2502 57083.5056  3.24%  10.3  420s\n",
      " 1509546 191246 58117.1096   49   19 58996.2502 57110.0540  3.20%  10.3  425s\n",
      " 1526213 189361     cutoff   70      58996.2502 57134.0792  3.16%  10.3  430s\n",
      " 1542546 187323 58329.1099   56   15 58996.2502 57159.3030  3.11%  10.3  435s\n",
      " 1561959 184796     cutoff   49      58996.2502 57189.1429  3.06%  10.3  440s\n",
      " 1580076 182401     cutoff   58      58996.2502 57216.2443  3.02%  10.3  445s\n",
      " 1595599 180142 58018.3314   53   24 58996.2502 57240.4237  2.98%  10.3  450s\n",
      " 1608701 178395 57699.9836   50   25 58996.2502 57260.5764  2.94%  10.3  455s\n",
      " 1618941 176875 58496.8440   51   16 58996.2502 57277.0469  2.91%  10.3  460s\n",
      " 1631166 175173 58148.1545   60   16 58996.2502 57296.3199  2.88%  10.3  465s\n",
      " 1642745 173215 58291.0295   47   19 58996.2502 57314.5985  2.85%  10.2  470s\n",
      " 1657451 170925     cutoff   63      58996.2502 57337.0385  2.81%  10.2  475s\n",
      " 1672754 168380 58532.0165   56   20 58996.2502 57361.3708  2.77%  10.2  480s\n",
      " 1690839 165112 58487.6205   64   19 58996.2502 57390.6140  2.72%  10.2  485s\n",
      " 1711593 161276 58933.8497   56   16 58996.2502 57424.4404  2.66%  10.2  490s\n",
      " 1732409 157454 infeasible   49      58996.2502 57458.5014  2.61%  10.2  495s\n",
      " 1748861 154299 58192.2744   69   16 58996.2502 57484.9206  2.56%  10.2  500s\n",
      " 1768477 150179 58698.1301   53   17 58996.2502 57516.9488  2.51%  10.2  505s\n",
      " 1788198 146091 57863.2959   59   19 58996.2502 57550.1529  2.45%  10.2  510s\n",
      " 1801661 143178 58894.7577   71   10 58996.2502 57573.5400  2.41%  10.2  515s\n",
      " 1813802 140377     cutoff   68      58996.2502 57594.7576  2.38%  10.2  520s\n",
      " 1822913 138290 58815.3978   65   28 58996.2502 57611.9763  2.35%  10.2  525s\n",
      " 1838695 134748     cutoff   47      58996.2502 57640.5256  2.30%  10.2  530s\n",
      " 1853176 131192 58135.1287   57   31 58996.2502 57667.4203  2.25%  10.2  535s\n",
      " 1867627 127487 58079.7765   57   25 58996.2502 57695.4176  2.20%  10.2  540s\n",
      " 1881926 123894     cutoff   48      58996.2502 57722.5868  2.16%  10.2  545s\n",
      " 1898020 119535     cutoff   48      58996.2502 57755.5710  2.10%  10.2  550s\n",
      " 1918105 114070 58376.2388   53   24 58996.2502 57796.2967  2.03%  10.2  555s\n",
      " 1936846 108570     cutoff   60      58996.2502 57835.7144  1.97%  10.2  560s\n",
      " 1955533 102850 58968.5048   52   22 58996.2502 57877.0488  1.90%  10.1  565s\n",
      " 1976102 96126     cutoff   50      58996.2502 57926.6680  1.81%  10.1  570s\n",
      " 1993836 89929 58775.7200   57   23 58996.2502 57970.7462  1.74%  10.1  575s\n",
      " 2009394 84243     cutoff   87      58996.2502 58011.0204  1.67%  10.1  580s\n",
      " 2023335 78812 infeasible   60      58996.2502 58051.1434  1.60%  10.1  585s\n",
      " 2036836 73501 58926.5236   49   15 58996.2502 58090.8971  1.53%  10.1  590s\n",
      " 2049888 67946 58912.9060   61   12 58996.2502 58135.4420  1.46%  10.1  595s\n",
      " 2063176 61976 infeasible   50      58996.2502 58181.1793  1.38%  10.1  600s\n",
      " 2077785 55086     cutoff   48      58996.2502 58237.1841  1.29%  10.1  605s\n",
      " 2090984 48282 infeasible   69      58996.2502 58295.4634  1.19%  10.0  610s\n",
      " 2107780 38888     cutoff   51      58996.2502 58381.3247  1.04%  10.0  615s\n",
      " 2123286 29412 58612.6235   58   18 58996.2502 58481.8104  0.87%  10.0  620s\n",
      " 2136164 20201     cutoff   62      58996.2502 58594.4752  0.68%  10.0  625s\n",
      " 2151717  7282     cutoff   67      58996.2502 58804.9760  0.32%  10.0  630s\n",
      "\n",
      "Cutting planes:\n",
      "  Learned: 45\n",
      "  Gomory: 47\n",
      "  Cover: 224\n",
      "  MIR: 132\n",
      "  Flow cover: 759\n",
      "  Inf proof: 368\n",
      "  Zero half: 40\n",
      "  RLT: 2\n",
      "\n",
      "Explored 2160425 nodes (21585856 simplex iterations) in 632.36 seconds (430.48 work units)\n",
      "Thread count was 8 (of 8 available processors)\n",
      "\n",
      "Solution count 10: 58996.3 59638.3 60086.6 ... 61454.8\n",
      "\n",
      "Optimal solution found (tolerance 1.00e-04)\n",
      "Best objective 5.899625245167e+04, best bound 5.899625245167e+04, gap 0.0000%\n"
     ]
    },
    {
     "data": {
      "text/plain": [
       "{'Problem': [{'Name': 'x421', 'Lower bound': 58996.252451671775, 'Upper bound': 58996.252451671775, 'Number of objectives': 1, 'Number of constraints': 402, 'Number of variables': 421, 'Number of binary variables': 400, 'Number of integer variables': 400, 'Number of continuous variables': 21, 'Number of nonzeros': 1808, 'Sense': 'minimize'}], 'Solver': [{'Status': 'ok', 'Return code': '0', 'Message': 'Model was solved to optimality (subject to tolerances), and an optimal solution is available.', 'Termination condition': 'optimal', 'Termination message': 'Model was solved to optimality (subject to tolerances), and an optimal solution is available.', 'Wall time': '632.3572196960449', 'Error rc': 0, 'Time': 632.763697385788}], 'Solution': [OrderedDict([('number of solutions', 0), ('number of solutions displayed', 0)])]}"
      ]
     },
     "execution_count": 13,
     "metadata": {},
     "output_type": "execute_result"
    }
   ],
   "source": [
    "instance = model.create_instance()\n",
    "opt = pyo.SolverFactory('gurobi')\n",
    "opt.solve(instance, options={'TimeLimit': 10000},tee=True)"
   ]
  },
  {
   "cell_type": "markdown",
   "metadata": {},
   "source": [
    "### Read output variables"
   ]
  },
  {
   "cell_type": "code",
   "execution_count": 14,
   "metadata": {},
   "outputs": [],
   "source": [
    "xij_dic = {i:int(value(j)) for (i,j) in instance.x.items()}\n",
    "xij = pd.DataFrame(xij_dic.values(), index = xij_dic.keys()).unstack()\n",
    "linkindex = np.where(xij == 1)"
   ]
  },
  {
   "cell_type": "code",
   "execution_count": 15,
   "metadata": {},
   "outputs": [],
   "source": [
    "ui_dic = {i:int(value(j)) for (i,j) in instance.u.items()}\n",
    "ui = pd.DataFrame(ui_dic.values(), index = ui_dic.keys()).unstack()\n",
    "sequence = np.where(ui == 1)\n",
    "uidf=pd.DataFrame(ui)\n",
    "uidf=uidf.sort_values(by=[0])\n",
    "\n",
    "pd.set_option('display.max_rows', uidf.shape[0]+1)\n"
   ]
  },
  {
   "cell_type": "markdown",
   "metadata": {},
   "source": [
    "### Plot results"
   ]
  },
  {
   "cell_type": "code",
   "execution_count": 20,
   "metadata": {},
   "outputs": [
    {
     "data": {
      "image/png": "[encoded data removed]",
      "text/plain": [
       "<Figure size 432x288 with 1 Axes>"
      ]
     },
     "metadata": {
      "needs_background": "light"
     },
     "output_type": "display_data"
    }
   ],
   "source": [
    "def connectpoints(x,y,p1,p2):\n",
    "    x1, x2 = x[p1], x[p2]\n",
    "    y1, y2 = y[p1], y[p2]\n",
    "    plt.plot([x1,x2],[y1,y2],'k-')\n",
    "\n",
    "for i_index in range(len(linkindex[0])): \n",
    "    connectpoints(coordlct_x,coordlct_y,linkindex[0][i_index],linkindex[1][i_index])\n",
    "    \n",
    "plt.plot(coordlct_x, coordlct_y, 'o', color='black');\n"
   ]
  },
  {
   "cell_type": "code",
   "execution_count": null,
   "metadata": {},
   "outputs": [],
   "source": []
  },
  {
   "cell_type": "code",
   "execution_count": null,
   "metadata": {},
   "outputs": [],
   "source": []
  }
 ],
 "metadata": {
  "kernelspec": {
   "display_name": "Python 3",
   "language": "python",
   "name": "python3"
  },
  "language_info": {
   "codemirror_mode": {
    "name": "ipython",
    "version": 3
   },
   "file_extension": ".py",
   "mimetype": "text/x-python",
   "name": "python",
   "nbconvert_exporter": "python",
   "pygments_lexer": "ipython3",
   "version": "3.8.5"
  }
 },
 "nbformat": 4,
 "nbformat_minor": 2
}
