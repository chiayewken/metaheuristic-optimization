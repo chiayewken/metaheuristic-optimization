{
 "cells": [
  {
   "cell_type": "markdown",
   "metadata": {},
   "source": [
    "## Traveling Salesman Problem - Hill Climbing"
   ]
  },
  {
   "cell_type": "markdown",
   "metadata": {},
   "source": [
    "### Import Packages"
   ]
  },
  {
   "cell_type": "code",
   "execution_count": 1,
   "metadata": {},
   "outputs": [],
   "source": [
    "from pyomo.environ import *\n",
    "import pyomo.environ as pyo\n",
    "import random\n",
    "import pandas as pd\n",
    "import matplotlib.pyplot as plt\n",
    "import math\n",
    "import numpy as np\n",
    "from IPython.display import clear_output\n",
    "import time\n",
    "import copy"
   ]
  },
  {
   "cell_type": "markdown",
   "metadata": {},
   "source": [
    "### Inputs"
   ]
  },
  {
   "cell_type": "code",
   "execution_count": 2,
   "metadata": {},
   "outputs": [],
   "source": [
    "#Generate Data Inputs\n",
    "\n",
    "# Select random seed\n",
    "random.seed(1)\n",
    "\n",
    "# Number of cities\n",
    "n=100\n",
    "\n",
    "#Coordinate Range\n",
    "rangelct=10000\n",
    "\n",
    "#No. of swaps at each iteration\n",
    "no_swap=1\n",
    "\n",
    "#Generate random locations\n",
    "coordlct_x = random.choices(range(0, rangelct), k=n)\n",
    "coordlct_y = random.choices(range(0, rangelct), k=n)\n",
    "\n",
    "#Compute distance between locations\n",
    "distancelct=np.empty([n, n])\n",
    "for i_index in range(n):\n",
    "    for j_index in range(n):\n",
    "        distancelct[i_index,j_index]=(math.sqrt(((coordlct_x[i_index]-coordlct_x[j_index])**2) +((coordlct_y[i_index]-coordlct_y[j_index])**2)))    \n",
    "\n",
    "distancelct[np.diag_indices_from(distancelct)] = 99999\n",
    "\n",
    "df = pd.DataFrame(distancelct)\n",
    "df.index += 1\n",
    "df.columns += 1\n",
    "cij_model=df.stack().to_dict()\n"
   ]
  },
  {
   "cell_type": "code",
   "execution_count": 3,
   "metadata": {},
   "outputs": [
    {
     "data": {
      "image/png": "[encoded data removed]",
      "text/plain": [
       "<Figure size 432x288 with 1 Axes>"
      ]
     },
     "metadata": {
      "needs_background": "light"
     },
     "output_type": "display_data"
    }
   ],
   "source": [
    "plt.plot(coordlct_x, coordlct_y, 'o', color='black');"
   ]
  },
  {
   "cell_type": "markdown",
   "metadata": {},
   "source": [
    "### Solution Representation and Initial Solution"
   ]
  },
  {
   "cell_type": "code",
   "execution_count": 4,
   "metadata": {},
   "outputs": [],
   "source": [
    "random.seed(1)\n",
    "Solution_i=random.sample(list(range(n)), n)\n",
    "\n",
    "dfSolution_i=pd.DataFrame(Solution_i)\n",
    "dfSolution_i\n",
    "dflinkindex_p1=dfSolution_i\n",
    "dflinkindex_p2=dfSolution_i.shift(-1)\n",
    "dflinkindex_p2.loc[n-1]=dflinkindex_p1.loc[0]\n",
    "linkindex_p1=dflinkindex_p1.to_numpy()\n",
    "linkindex_p2=dflinkindex_p2.to_numpy()\n",
    "linkindex_p1=linkindex_p1.astype(int)\n",
    "linkindex_p2=linkindex_p2.astype(int)\n",
    "linkindex_p1=linkindex_p1.transpose()[0]\n",
    "linkindex_p2=linkindex_p2.transpose()[0]\n"
   ]
  },
  {
   "cell_type": "code",
   "execution_count": 5,
   "metadata": {},
   "outputs": [
    {
     "data": {
      "text/plain": [
       "508089.55416686134"
      ]
     },
     "execution_count": 5,
     "metadata": {},
     "output_type": "execute_result"
    }
   ],
   "source": [
    "#Compute Objective Value\n",
    "ObjValue=sum(distancelct[linkindex_p1,linkindex_p2])\n",
    "ObjValue"
   ]
  },
  {
   "cell_type": "code",
   "execution_count": 6,
   "metadata": {},
   "outputs": [],
   "source": [
    "#Exchange Operator\n",
    "def swap_random(seq):\n",
    "    idx = range(len(seq))\n",
    "    i1, i2 = random.sample(idx, 2)\n",
    "    seq[i1], seq[i2] = seq[i2], seq[i1]"
   ]
  },
  {
   "cell_type": "code",
   "execution_count": 7,
   "metadata": {},
   "outputs": [],
   "source": [
    "#Insert Operator\n",
    "def insert_random(seq):\n",
    "    idx = range(len(seq))\n",
    "    i1=random.sample(idx, 1)\n",
    "    remove_index=np.where(np.array(seq)==i1)\n",
    "    seq.pop(int(remove_index[0]))\n",
    "    seq.insert(random.sample(idx, 1)[0], i1[0])"
   ]
  },
  {
   "cell_type": "code",
   "execution_count": 8,
   "metadata": {},
   "outputs": [],
   "source": [
    "#3-Opt\n",
    "def k_opt(seq):\n",
    "    global Solution_i\n",
    "    idx = range(len(seq))\n",
    "    i1=np.sort(random.sample(idx, 2))\n",
    "\n",
    "    #Split in 3 \n",
    "    Opt1=seq[0:i1[0]]\n",
    "    Opt2=seq[(i1[0]):i1[1]]\n",
    "    Opt3=seq[(i1[1]):len(seq)]\n",
    "    Opt2rev=Opt2[::-1]\n",
    "    Opt3rev=Opt3[::-1]\n",
    "\n",
    "    #3-Opt Solutions\n",
    "    Sol1=Opt1+Opt2rev+Opt3rev\n",
    "    Sol2=Opt1+Opt3+Opt2\n",
    "    Sol3=Opt1+Opt3+Opt2rev\n",
    "    Sol4=Opt1+Opt3rev+Opt2\n",
    "\n",
    "    #2 Opt Solution\n",
    "    Sol5=Opt1+Opt2rev+Opt3\n",
    "    Sol6=Opt1+Opt2+Opt3rev\n",
    "    Sol7=Opt1+Opt3rev+Opt2rev\n",
    "\n",
    "    OptNeigh=[Sol1,Sol2,Sol3,Sol4,Sol5,Sol6,Sol7]\n",
    "\n",
    "    ObjValue_Neigh=list();\n",
    "    #Compute Obj Value of All Solutions\n",
    "    for i_index in range(len(OptNeigh)):\n",
    "        Solution_Neigh=OptNeigh[i_index]\n",
    "\n",
    "        dfSolution_i=pd.DataFrame(Solution_Neigh)\n",
    "        dflinkindex_p1=dfSolution_i\n",
    "        dflinkindex_p2=dfSolution_i.shift(-1)\n",
    "        dflinkindex_p2.loc[n-1]=dflinkindex_p1.loc[0]\n",
    "        linkindex_p1=dflinkindex_p1.to_numpy()\n",
    "        linkindex_p2=dflinkindex_p2.to_numpy()\n",
    "        linkindex_p1=linkindex_p1.astype(int)\n",
    "        linkindex_p2=linkindex_p2.astype(int)\n",
    "        linkindex_p1=linkindex_p1.transpose()[0]\n",
    "        linkindex_p2=linkindex_p2.transpose()[0]\n",
    "\n",
    "        #Compute Objective Value\n",
    "        ObjValue=sum(distancelct[linkindex_p1,linkindex_p2])\n",
    "        ObjValue_Neigh=np.append(ObjValue_Neigh,ObjValue)\n",
    "        OptNeigh[np.argmin(ObjValue_Neigh)]\n",
    "        Solution_i=OptNeigh[np.argmin(ObjValue_Neigh)]"
   ]
  },
  {
   "cell_type": "markdown",
   "metadata": {},
   "source": [
    "### Random Algorithm"
   ]
  },
  {
   "cell_type": "code",
   "execution_count": 9,
   "metadata": {},
   "outputs": [],
   "source": [
    "random.seed(3)\n",
    "iteration=0\n",
    "ObjValueOpt=ObjValue\n",
    "Objvalue_list=ObjValue\n",
    "program_starts = time.time()\n",
    "cputime_i=[0,0] \n",
    "OptSolution=Solution_i\n",
    "\n",
    "while cputime_i[-1]<60:\n",
    "    \n",
    "    iteration=iteration+1\n",
    "    Solution_i=copy.deepcopy(OptSolution)\n",
    "    \n",
    "    swap_it=0\n",
    "    while swap_it<no_swap:\n",
    "        swap_random(Solution_i)\n",
    "        swap_it=swap_it+1\n",
    "        \n",
    "    dfSolution_i=pd.DataFrame(Solution_i)\n",
    "    dfSolution_i\n",
    "    dflinkindex_p1=dfSolution_i\n",
    "    dflinkindex_p2=dfSolution_i.shift(-1)\n",
    "    dflinkindex_p2.loc[n-1]=dflinkindex_p1.loc[0]\n",
    "    linkindex_p1=dflinkindex_p1.to_numpy()\n",
    "    linkindex_p2=dflinkindex_p2.to_numpy()\n",
    "    linkindex_p1=linkindex_p1.astype(int)\n",
    "    linkindex_p2=linkindex_p2.astype(int)\n",
    "    linkindex_p1=linkindex_p1.transpose()[0]\n",
    "    linkindex_p2=linkindex_p2.transpose()[0]\n",
    "    \n",
    "    #Compute Objective Value\n",
    "    ObjValue=sum(distancelct[linkindex_p1,linkindex_p2])\n",
    "    \n",
    "    #Update Optimal Solution\n",
    "    if ObjValue<ObjValueOpt:\n",
    "        ObjValueOpt=copy.deepcopy(ObjValue)\n",
    "        OptSolution=copy.deepcopy(Solution_i)\n",
    "        \n",
    "    Objvalue_list=np.append(Objvalue_list, ObjValueOpt)\n",
    "    now = time.time()\n",
    "    cputime_i=np.append(cputime_i, now-program_starts)\n",
    "        \n",
    "        #def connectpoints(x,y,p1,p2):\n",
    "        #    x1, x2 = x[p1], x[p2]\n",
    "        #    y1, y2 = y[p1], y[p2]\n",
    "        #    plt.plot([x1,x2],[y1,y2],'k-')\n",
    "\n",
    "        #for i_index in range(len(linkindex_p2)): \n",
    "        #    connectpoints(coordlct_x,coordlct_y,linkindex_p1[i_index],linkindex_p2[i_index])\n",
    "\n",
    "        #plt.plot(coordlct_x, coordlct_y, 'o', color='black');\n",
    "\n",
    "        #clear_output(wait=True)\n",
    "        #plt.draw()\n",
    "        #plt.pause(0.1)\n",
    "        #plt.clf()\n",
    "        \n",
    "#Update last objective value\n",
    "Objvalue_list=np.append(Objvalue_list, min(Objvalue_list))\n",
    "now = time.time()\n",
    "cputime_i=np.append(cputime_i, now-program_starts)"
   ]
  },
  {
   "cell_type": "markdown",
   "metadata": {},
   "source": [
    "### Read output variables"
   ]
  },
  {
   "cell_type": "code",
   "execution_count": 10,
   "metadata": {},
   "outputs": [
    {
     "data": {
      "text/plain": [
       "120133.17177001572"
      ]
     },
     "execution_count": 10,
     "metadata": {},
     "output_type": "execute_result"
    }
   ],
   "source": [
    "min(Objvalue_list)"
   ]
  },
  {
   "cell_type": "markdown",
   "metadata": {},
   "source": [
    "### Plot results"
   ]
  },
  {
   "cell_type": "code",
   "execution_count": 11,
   "metadata": {},
   "outputs": [
    {
     "data": {
      "text/plain": [
       "[<matplotlib.lines.Line2D at 0x29070410748>]"
      ]
     },
     "execution_count": 11,
     "metadata": {},
     "output_type": "execute_result"
    },
    {
     "data": {
      "image/png": "[encoded data removed]",
      "text/plain": [
       "<Figure size 432x288 with 1 Axes>"
      ]
     },
     "metadata": {
      "needs_background": "light"
     },
     "output_type": "display_data"
    }
   ],
   "source": [
    "plt.plot(cputime_i[range(len(Objvalue_list))],Objvalue_list,'k-')"
   ]
  },
  {
   "cell_type": "code",
   "execution_count": 12,
   "metadata": {
    "scrolled": true
   },
   "outputs": [],
   "source": [
    "solutiondf=pd.DataFrame(cputime_i[range(len(Objvalue_list))],Objvalue_list)\n",
    "\n",
    "#solutiondf.to_csv('SolDf.csv',index=True)"
   ]
  },
  {
   "cell_type": "code",
   "execution_count": 13,
   "metadata": {},
   "outputs": [
    {
     "data": {
      "image/png": "[encoded data removed]",
      "text/plain": [
       "<Figure size 432x288 with 1 Axes>"
      ]
     },
     "metadata": {
      "needs_background": "light"
     },
     "output_type": "display_data"
    }
   ],
   "source": [
    "def connectpoints(x,y,p1,p2):\n",
    "    x1, x2 = x[p1], x[p2]\n",
    "    y1, y2 = y[p1], y[p2]\n",
    "    plt.plot([x1,x2],[y1,y2],'k-')\n",
    "\n",
    "for i_index in range(len(linkindex_p2)): \n",
    "    connectpoints(coordlct_x,coordlct_y,linkindex_p1[i_index],linkindex_p2[i_index])\n",
    "\n",
    "    plt.plot(coordlct_x, coordlct_y, 'o', color='black');"
   ]
  },
  {
   "cell_type": "code",
   "execution_count": null,
   "metadata": {},
   "outputs": [],
   "source": []
  }
 ],
 "metadata": {
  "kernelspec": {
   "display_name": "Python 3",
   "language": "python",
   "name": "python3"
  },
  "language_info": {
   "codemirror_mode": {
    "name": "ipython",
    "version": 3
   },
   "file_extension": ".py",
   "mimetype": "text/x-python",
   "name": "python",
   "nbconvert_exporter": "python",
   "pygments_lexer": "ipython3",
   "version": "3.7.3"
  }
 },
 "nbformat": 4,
 "nbformat_minor": 2
}
